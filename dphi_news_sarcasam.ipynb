{
  "nbformat": 4,
  "nbformat_minor": 0,
  "metadata": {
    "colab": {
      "name": "dphi - news_sarcasam.ipynb",
      "provenance": [],
      "collapsed_sections": []
    },
    "kernelspec": {
      "name": "python3",
      "display_name": "Python 3"
    },
    "language_info": {
      "name": "python"
    },
    "accelerator": "GPU"
  },
  "cells": [
    {
      "cell_type": "markdown",
      "metadata": {
        "id": "91uyWXUBZsVE"
      },
      "source": [
        "## Importing Libraries"
      ]
    },
    {
      "cell_type": "code",
      "metadata": {
        "id": "ipGrx0X6HT0q"
      },
      "source": [
        "import string\n",
        "import re\n",
        "import tensorflow as tf\n",
        "from tensorflow import keras\n",
        "\n",
        "import numpy as np\n",
        "import pandas as pd\n",
        "import spacy\n",
        "from spacy.lang.en.stop_words import STOP_WORDS as stopwords\n",
        "import unicodedata\n",
        "\n",
        "from tensorflow.keras import optimizers, models\n",
        "from keras.models import Sequential\n",
        "from keras.layers import Dense, LSTM, Embedding, SpatialDropout1D, Dropout\n",
        "from keras.preprocessing.text import Tokenizer\n",
        "from keras.callbacks import ModelCheckpoint, EarlyStopping\n",
        "from keras.preprocessing.sequence import pad_sequences\n",
        "\n",
        "import matplotlib.pyplot as plt\n",
        "%matplotlib inline\n",
        "\n",
        "from sklearn.model_selection import train_test_split\n",
        "from sklearn.preprocessing import LabelEncoder\n",
        "from sklearn.metrics import f1_score, precision_score, recall_score, confusion_matrix, classification_report, accuracy_score"
      ],
      "execution_count": 131,
      "outputs": []
    },
    {
      "cell_type": "markdown",
      "metadata": {
        "id": "3Q2l0HlHKN9V"
      },
      "source": [
        "## Data & Text Preprocessing"
      ]
    },
    {
      "cell_type": "code",
      "metadata": {
        "id": "rpXFjYGnnvFo"
      },
      "source": [
        "#Reading the training data from the csv\n",
        "df = pd.read_csv(\"/content/drive/MyDrive/News_Train_Data.csv\", index_col=None)"
      ],
      "execution_count": 3,
      "outputs": []
    },
    {
      "cell_type": "code",
      "metadata": {
        "colab": {
          "base_uri": "https://localhost:8080/"
        },
        "id": "8Pj4PQvxR6Za",
        "outputId": "3629c684-e5a0-4661-c571-9a8bb7f18e24"
      },
      "source": [
        "#Finding the number of dimensions of the data\n",
        "df.shape"
      ],
      "execution_count": 4,
      "outputs": [
        {
          "output_type": "execute_result",
          "data": {
            "text/plain": [
              "(44262, 2)"
            ]
          },
          "metadata": {},
          "execution_count": 4
        }
      ]
    },
    {
      "cell_type": "code",
      "metadata": {
        "colab": {
          "base_uri": "https://localhost:8080/"
        },
        "id": "nF9JEVDfKPz0",
        "outputId": "27e78531-3390-4466-ca8d-746f3438c713"
      },
      "source": [
        "df.columns"
      ],
      "execution_count": 5,
      "outputs": [
        {
          "output_type": "execute_result",
          "data": {
            "text/plain": [
              "Index(['headline', 'is_sarcastic'], dtype='object')"
            ]
          },
          "metadata": {},
          "execution_count": 5
        }
      ]
    },
    {
      "cell_type": "code",
      "metadata": {
        "colab": {
          "base_uri": "https://localhost:8080/"
        },
        "id": "H6ioiPtMKRpW",
        "outputId": "3d6665be-10ab-42f3-f2e9-adf6071b4180"
      },
      "source": [
        "#Checking if there are any null values\n",
        "df.isna().sum()"
      ],
      "execution_count": 6,
      "outputs": [
        {
          "output_type": "execute_result",
          "data": {
            "text/plain": [
              "headline        0\n",
              "is_sarcastic    0\n",
              "dtype: int64"
            ]
          },
          "metadata": {},
          "execution_count": 6
        }
      ]
    },
    {
      "cell_type": "code",
      "metadata": {
        "colab": {
          "base_uri": "https://localhost:8080/"
        },
        "id": "-Pa8bd9GLYVx",
        "outputId": "01d1b2f5-e7a4-47eb-d250-6cd1a563e244"
      },
      "source": [
        "#Checking the number of values for each class to identify if there is any significant data imbalance\n",
        "df['is_sarcastic'].value_counts()"
      ],
      "execution_count": 7,
      "outputs": [
        {
          "output_type": "execute_result",
          "data": {
            "text/plain": [
              "0    23958\n",
              "1    20304\n",
              "Name: is_sarcastic, dtype: int64"
            ]
          },
          "metadata": {},
          "execution_count": 7
        }
      ]
    },
    {
      "cell_type": "code",
      "metadata": {
        "id": "LpyDJlIxKWPi"
      },
      "source": [
        "#function to replace all short abbrevations in the data with expanded equivalent\n",
        "def expand_words(x):\n",
        "\tcontractions = {\"ain't\": \"am not\",\"aren't\": \"are not\",\"can't\": \"cannot\",\"can't've\": \"cannot have\",\"'cause\": \"because\",\"could've\": \"could have\",\"couldn't\": \"could not\",\"couldn't've\": \"could not have\",\"didn't\": \"did not\",\"doesn't\": \"does not\",\"don't\": \"do not\",\"hadn't\": \"had not\",\"hadn't've\": \"had not have\",\"hasn't\": \"has not\",\"haven't\": \"have not\",\"he'd\": \"he would\",\"he'd've\": \"he would have\",\"he'll\": \"he will\",\"he'll've\": \"he will have\",\"he's\": \"he is\",\"how'd\": \"how did\",\"how'd'y\": \"how do you\",\"how'll\": \"how will\",\"how's\": \"how does\",\"i'd\": \"i would\",\"i'd've\": \"i would have\",\"i'll\": \"i will\",\"i'll've\": \"i will have\",\"i'm\": \"i am\",\"i've\": \"i have\",\"isn't\": \"is not\",\"it'd\": \"it would\",\"it'd've\": \"it would have\",\"it'll\": \"it will\",\"it'll've\": \"it will have\",\"it's\": \"it is\",\"let's\": \"let us\",\"ma'am\": \"madam\",\"mayn't\": \"may not\",\"might've\": \"might have\",\"mightn't\": \"might not\",\"mightn't've\": \"might not have\",\"must've\": \"must have\",\"mustn't\": \"must not\",\"mustn't've\": \"must not have\",\"needn't\": \"need not\",\"needn't've\": \"need not have\",\"o'clock\": \"of the clock\",\"oughtn't\": \"ought not\",\"oughtn't've\": \"ought not have\",\"shan't\": \"shall not\",\"sha'n't\": \"shall not\",\"shan't've\": \"shall not have\",\"she'd\": \"she would\",\"she'd've\": \"she would have\",\"she'll\": \"she will\",\"she'll've\": \"she will have\",\"she's\": \"she is\",\"should've\": \"should have\",\"shouldn't\": \"should not\",\"shouldn't've\": \"should not have\",\"so've\": \"so have\",\"so's\": \"so is\",\"that'd\": \"that would\",\"that'd've\": \"that would have\",\"that's\": \"that is\",\"there'd\": \"there would\",\"there'd've\": \"there would have\",\"there's\": \"there is\",\"they'd\": \"they would\",\"they'd've\": \"they would have\",\"they'll\": \"they will\",\"they'll've\": \"they will have\",\"they're\": \"they are\",\"they've\": \"they have\",\"to've\": \"to have\",\"wasn't\": \"was not\",\" u \": \" you \",\" ur \": \" your \",\" n \": \" and \",\"won't\": \"would not\",\"dis\": \"this\",\"bak\": \"back\",\"brng\": \"bring\"\n",
        "\t}\n",
        "\n",
        "\tif type(x) is str:\n",
        "\t\tfor key in contractions:\n",
        "\t\t\tvalue = contractions[key]\n",
        "\t\t\tx = x.replace(key, value)\n",
        "\t\treturn x\n",
        "\telse:\n",
        "\t\treturn x"
      ],
      "execution_count": 8,
      "outputs": []
    },
    {
      "cell_type": "code",
      "metadata": {
        "id": "PMBjEmv4Kxph"
      },
      "source": [
        "#Other text pre processing functions like removing stopwords, special characters, common and rare words etc.\n",
        "def remove_stopwords(x):\n",
        "\treturn ' '.join([t for t in x.split() if t not in stopwords])\t\n",
        "\n",
        "def remove_special_characters(x):\n",
        "\tx = re.sub(r'[^\\w ]+', \"\", x)\n",
        "\tx = x.replace(\"_\", \"\")\n",
        "\tx = ' '.join(x.split())\n",
        "\treturn x\n",
        "\n",
        "def remove_accented_chars(x):\n",
        "\tx = unicodedata.normalize('NFKD', x).encode('ascii', 'ignore').decode('utf-8', 'ignore')\n",
        "\treturn x\n",
        "\n",
        "def remove_common_words(x, freq, n=20):\n",
        "\tfn = freq[:n]\n",
        "\tx = ' '.join([t for t in x.split() if t not in fn])\n",
        "\treturn x\n",
        "\n",
        "def remove_rarewords(x, freq, n=20):\n",
        "\tfn = freq.tail(n)\n",
        "\tx = ' '.join([t for t in x.split() if t not in fn])\n",
        "\treturn x"
      ],
      "execution_count": 9,
      "outputs": []
    },
    {
      "cell_type": "code",
      "metadata": {
        "id": "ug0t-QzYLGXN"
      },
      "source": [
        "#Applying all the text pre-processing to the training data\n",
        "df['headline'] = df['headline'].apply(lambda x: str(x).lower())\n",
        "df['headline'] = df['headline'].apply(lambda x: expand_words(x))\n",
        "df['headline'] = df['headline'].apply(lambda x: remove_special_characters(x))\n",
        "df['headline'] = df['headline'].apply(lambda x: remove_accented_chars(x))\n",
        "df['headline'] = df['headline'].apply(lambda x: remove_stopwords(x))"
      ],
      "execution_count": 10,
      "outputs": []
    },
    {
      "cell_type": "code",
      "metadata": {
        "colab": {
          "base_uri": "https://localhost:8080/",
          "height": 356
        },
        "id": "jzsqXruCNL7N",
        "outputId": "615130de-7a27-4cd5-ecb6-87c3bd7712c4"
      },
      "source": [
        "df.sample(10)"
      ],
      "execution_count": 11,
      "outputs": [
        {
          "output_type": "execute_result",
          "data": {
            "text/html": [
              "<div>\n",
              "<style scoped>\n",
              "    .dataframe tbody tr th:only-of-type {\n",
              "        vertical-align: middle;\n",
              "    }\n",
              "\n",
              "    .dataframe tbody tr th {\n",
              "        vertical-align: top;\n",
              "    }\n",
              "\n",
              "    .dataframe thead th {\n",
              "        text-align: right;\n",
              "    }\n",
              "</style>\n",
              "<table border=\"1\" class=\"dataframe\">\n",
              "  <thead>\n",
              "    <tr style=\"text-align: right;\">\n",
              "      <th></th>\n",
              "      <th>headline</th>\n",
              "      <th>is_sarcastic</th>\n",
              "    </tr>\n",
              "  </thead>\n",
              "  <tbody>\n",
              "    <tr>\n",
              "      <th>13678</th>\n",
              "      <td>sight 400 war elephants horizon marks hillary clintons arrival swing state</td>\n",
              "      <td>1</td>\n",
              "    </tr>\n",
              "    <tr>\n",
              "      <th>41662</th>\n",
              "      <td>starbucks offering new lukewarm coffee help ease customers transition iced hot</td>\n",
              "      <td>1</td>\n",
              "    </tr>\n",
              "    <tr>\n",
              "      <th>15263</th>\n",
              "      <td>25yearold goes raucous immunization binge night losing parents health insurance</td>\n",
              "      <td>1</td>\n",
              "    </tr>\n",
              "    <tr>\n",
              "      <th>43677</th>\n",
              "      <td>run philosophical look value running</td>\n",
              "      <td>0</td>\n",
              "    </tr>\n",
              "    <tr>\n",
              "      <th>5047</th>\n",
              "      <td>verizon comcast approach 21st century fox acquiring assets</td>\n",
              "      <td>0</td>\n",
              "    </tr>\n",
              "    <tr>\n",
              "      <th>24157</th>\n",
              "      <td>pot wonders 7 delicious dinners mess</td>\n",
              "      <td>0</td>\n",
              "    </tr>\n",
              "    <tr>\n",
              "      <th>19180</th>\n",
              "      <td>spirits night</td>\n",
              "      <td>0</td>\n",
              "    </tr>\n",
              "    <tr>\n",
              "      <th>42029</th>\n",
              "      <td>lady gaga parody gives million reasons 2016 sucked</td>\n",
              "      <td>0</td>\n",
              "    </tr>\n",
              "    <tr>\n",
              "      <th>30969</th>\n",
              "      <td>woman apologizes therapist monopolizing conversation</td>\n",
              "      <td>1</td>\n",
              "    </tr>\n",
              "    <tr>\n",
              "      <th>32969</th>\n",
              "      <td>hurricane nicole wreaks havoc bermuda</td>\n",
              "      <td>0</td>\n",
              "    </tr>\n",
              "  </tbody>\n",
              "</table>\n",
              "</div>"
            ],
            "text/plain": [
              "                                                                              headline  is_sarcastic\n",
              "13678       sight 400 war elephants horizon marks hillary clintons arrival swing state             1\n",
              "41662   starbucks offering new lukewarm coffee help ease customers transition iced hot             1\n",
              "15263  25yearold goes raucous immunization binge night losing parents health insurance             1\n",
              "43677                                             run philosophical look value running             0\n",
              "5047                        verizon comcast approach 21st century fox acquiring assets             0\n",
              "24157                                             pot wonders 7 delicious dinners mess             0\n",
              "19180                                                                    spirits night             0\n",
              "42029                               lady gaga parody gives million reasons 2016 sucked             0\n",
              "30969                             woman apologizes therapist monopolizing conversation             1\n",
              "32969                                            hurricane nicole wreaks havoc bermuda             0"
            ]
          },
          "metadata": {},
          "execution_count": 11
        }
      ]
    },
    {
      "cell_type": "markdown",
      "metadata": {
        "id": "gXiR8JznM_Lz"
      },
      "source": [
        "## Data Splitting"
      ]
    },
    {
      "cell_type": "code",
      "metadata": {
        "id": "1MHECq9nNCvL"
      },
      "source": [
        "#defining X and y\n",
        "X = df['headline']\n",
        "y = df['is_sarcastic']"
      ],
      "execution_count": 71,
      "outputs": []
    },
    {
      "cell_type": "code",
      "metadata": {
        "id": "TlypqeVONWRR"
      },
      "source": [
        "#Label encoding the 'is_sarcastic' label\n",
        "lb = LabelEncoder()\n",
        "y = lb.fit_transform(y)"
      ],
      "execution_count": 72,
      "outputs": []
    },
    {
      "cell_type": "code",
      "metadata": {
        "id": "kyn0U6K5R_at"
      },
      "source": [
        "#Splitting the data for training and validation\n",
        "X_train, X_valid, y_train, y_valid = train_test_split(X, y, test_size = 0.25, random_state = 123, stratify = y)"
      ],
      "execution_count": 73,
      "outputs": []
    },
    {
      "cell_type": "code",
      "metadata": {
        "colab": {
          "base_uri": "https://localhost:8080/"
        },
        "id": "HSksnsaVTQBN",
        "outputId": "9e909179-4f23-462f-b7e2-16f545b931e3"
      },
      "source": [
        "X_train.shape, X_valid.shape, y_train.shape, y_valid.shape"
      ],
      "execution_count": 74,
      "outputs": [
        {
          "output_type": "execute_result",
          "data": {
            "text/plain": [
              "((33196,), (11066,), (33196,), (11066,))"
            ]
          },
          "metadata": {},
          "execution_count": 74
        }
      ]
    },
    {
      "cell_type": "markdown",
      "metadata": {
        "id": "78mXIDL3TTGl"
      },
      "source": [
        "## Tokenization\n"
      ]
    },
    {
      "cell_type": "code",
      "metadata": {
        "id": "B05oEHilTVsf"
      },
      "source": [
        "#defining the tokenizer\n",
        "tokenizer = Tokenizer()\n",
        "tokenizer.fit_on_texts(df['headline'].astype(\"str\"))"
      ],
      "execution_count": 75,
      "outputs": []
    },
    {
      "cell_type": "code",
      "metadata": {
        "colab": {
          "base_uri": "https://localhost:8080/"
        },
        "id": "LikC-XK3g4Hv",
        "outputId": "8b1c445a-7662-466e-b55d-e752186d8f05"
      },
      "source": [
        "#Finding the total vocab size of the training data\n",
        "tokenizer_vocab_size = len(tokenizer.word_index) + 1\n",
        "print('News Headline Vocabulary Size: %d' % tokenizer_vocab_size)"
      ],
      "execution_count": 76,
      "outputs": [
        {
          "output_type": "stream",
          "name": "stdout",
          "text": [
            "News Headline Vocabulary Size: 28538\n"
          ]
        }
      ]
    },
    {
      "cell_type": "code",
      "metadata": {
        "colab": {
          "base_uri": "https://localhost:8080/",
          "height": 297
        },
        "id": "b3wlvXcRN0oi",
        "outputId": "015fc95f-a892-4b88-9e46-46dd25c213e2"
      },
      "source": [
        "# finding the maximum length of the news headline in order to do padding\n",
        "headline = []\n",
        "# populate the lists with sentence lengths\n",
        "for i in df['headline']:\n",
        "      headline.append(len(i.split()))\n",
        "\n",
        "length_df = pd.DataFrame({'headline':headline})\n",
        "\n",
        "length_df.hist(bins = 30)\n",
        "plt.show()\n",
        "maxlen = np.quantile(length_df['headline'],0.9999)\n",
        "print(maxlen)"
      ],
      "execution_count": 77,
      "outputs": [
        {
          "output_type": "display_data",
          "data": {
            "image/png": "[encoded data removed]",
            "text/plain": [
              "<Figure size 432x288 with 1 Axes>"
            ]
          },
          "metadata": {
            "needs_background": "light"
          }
        },
        {
          "output_type": "stream",
          "name": "stdout",
          "text": [
            "25.0\n"
          ]
        }
      ]
    },
    {
      "cell_type": "code",
      "metadata": {
        "id": "DdZBvYviByKI"
      },
      "source": [
        "#Converting the training and validation data to sequences and adding zero padding\n",
        "X_train_seq = tokenizer.texts_to_sequences(X_train.astype(\"str\"))\n",
        "X_train_pad = pad_sequences(X_train_seq, maxlen=int(maxlen), padding='post')\n",
        "\n",
        "X_valid_seq = tokenizer.texts_to_sequences(X_valid.astype(\"str\"))\n",
        "X_valid_pad = pad_sequences(X_valid_seq, maxlen=int(maxlen), padding='post')"
      ],
      "execution_count": 78,
      "outputs": []
    },
    {
      "cell_type": "code",
      "metadata": {
        "colab": {
          "base_uri": "https://localhost:8080/"
        },
        "id": "WpslKSpoe9aO",
        "outputId": "861d452b-4cff-4f27-d9d1-d3e8374bd84c"
      },
      "source": [
        "X_train_pad.shape, X_valid_pad.shape, y_train.shape, y_valid.shape"
      ],
      "execution_count": 79,
      "outputs": [
        {
          "output_type": "execute_result",
          "data": {
            "text/plain": [
              "((33196, 25), (11066, 25), (33196,), (11066,))"
            ]
          },
          "metadata": {},
          "execution_count": 79
        }
      ]
    },
    {
      "cell_type": "code",
      "metadata": {
        "id": "xsA7QjBF58gN"
      },
      "source": [
        "y_train=pd.get_dummies(y_train)\n",
        "y_valid=pd.get_dummies(y_valid)"
      ],
      "execution_count": 80,
      "outputs": []
    },
    {
      "cell_type": "code",
      "metadata": {
        "colab": {
          "base_uri": "https://localhost:8080/"
        },
        "id": "jna_g03f6dMZ",
        "outputId": "ac2290d9-17a2-4fbe-b051-df8b1f9eebca"
      },
      "source": [
        "y_train.value_counts()"
      ],
      "execution_count": 81,
      "outputs": [
        {
          "output_type": "execute_result",
          "data": {
            "text/plain": [
              "0  1\n",
              "1  0    17968\n",
              "0  1    15228\n",
              "dtype: int64"
            ]
          },
          "metadata": {},
          "execution_count": 81
        }
      ]
    },
    {
      "cell_type": "markdown",
      "metadata": {
        "id": "Boji2AOwfXfp"
      },
      "source": [
        "## Word Embedding"
      ]
    },
    {
      "cell_type": "code",
      "metadata": {
        "colab": {
          "base_uri": "https://localhost:8080/"
        },
        "id": "ULMKG6YJfpx2",
        "outputId": "d49b1b6e-28fc-4c90-8fb1-2fe8f4579d6b"
      },
      "source": [
        "#Implementing word embedding technique - 100 dimension glove to generate dense word vectors \n",
        "!pip install gensim\n",
        "import gensim.downloader as api\n",
        "glove_gensim  = api.load('glove-wiki-gigaword-100')"
      ],
      "execution_count": 82,
      "outputs": [
        {
          "output_type": "stream",
          "name": "stdout",
          "text": [
            "Requirement already satisfied: gensim in /usr/local/lib/python3.7/dist-packages (3.6.0)\n",
            "Requirement already satisfied: scipy>=0.18.1 in /usr/local/lib/python3.7/dist-packages (from gensim) (1.4.1)\n",
            "Requirement already satisfied: numpy>=1.11.3 in /usr/local/lib/python3.7/dist-packages (from gensim) (1.19.5)\n",
            "Requirement already satisfied: six>=1.5.0 in /usr/local/lib/python3.7/dist-packages (from gensim) (1.15.0)\n",
            "Requirement already satisfied: smart-open>=1.2.1 in /usr/local/lib/python3.7/dist-packages (from gensim) (5.2.1)\n",
            "[==================================================] 100.0% 128.1/128.1MB downloaded\n"
          ]
        }
      ]
    },
    {
      "cell_type": "code",
      "metadata": {
        "colab": {
          "base_uri": "https://localhost:8080/"
        },
        "id": "fP6evt-ohaCI",
        "outputId": "607ec7f6-a3ac-4106-c915-58d7e0d2eceb"
      },
      "source": [
        "vector_size = 100\n",
        "gensim_weight_matrix = np.zeros((tokenizer_vocab_size ,vector_size))\n",
        "gensim_weight_matrix.shape"
      ],
      "execution_count": 93,
      "outputs": [
        {
          "output_type": "execute_result",
          "data": {
            "text/plain": [
              "(28538, 100)"
            ]
          },
          "metadata": {},
          "execution_count": 93
        }
      ]
    },
    {
      "cell_type": "code",
      "metadata": {
        "id": "3dZV7zCbCTkj"
      },
      "source": [
        "for word, index in tokenizer.word_index.items():\n",
        "    if index < tokenizer_vocab_size: # since index starts with zero \n",
        "        if word in glove_gensim.wv.vocab:\n",
        "            gensim_weight_matrix[index] = glove_gensim[word]\n",
        "        else:\n",
        "            gensim_weight_matrix[index] = np.zeros(100)"
      ],
      "execution_count": null,
      "outputs": []
    },
    {
      "cell_type": "markdown",
      "metadata": {
        "id": "Mh_QqdFdQn44"
      },
      "source": [
        "## Model building & Training"
      ]
    },
    {
      "cell_type": "code",
      "metadata": {
        "colab": {
          "base_uri": "https://localhost:8080/"
        },
        "id": "D6Yp35VWQpqc",
        "outputId": "5e9b85c8-474c-4e60-94c7-609121fe9998"
      },
      "source": [
        "#defining the model - LSTM layer with dropout(to minimise overfitting), fully connected dense layer\n",
        "model = Sequential()\n",
        "model.add(Embedding(tokenizer_vocab_size, 100,input_length = int(maxlen), weights = [gensim_weight_matrix]))\n",
        "model.add(SpatialDropout1D(0.4))\n",
        "model.add(LSTM(1024, dropout=0.2, recurrent_dropout=0.2))\n",
        "model.add(Dense(2,activation='softmax'))\n",
        "model.compile(loss = 'categorical_crossentropy', optimizer='adam',metrics = ['accuracy'])\n",
        "print(model.summary())"
      ],
      "execution_count": 125,
      "outputs": [
        {
          "output_type": "stream",
          "name": "stdout",
          "text": [
            "WARNING:tensorflow:Layer lstm_15 will not use cuDNN kernels since it doesn't meet the criteria. It will use a generic GPU kernel as fallback when running on GPU.\n",
            "Model: \"sequential_16\"\n",
            "_________________________________________________________________\n",
            "Layer (type)                 Output Shape              Param #   \n",
            "=================================================================\n",
            "embedding_16 (Embedding)     (None, 25, 100)           2853800   \n",
            "_________________________________________________________________\n",
            "spatial_dropout1d_14 (Spatia (None, 25, 100)           0         \n",
            "_________________________________________________________________\n",
            "lstm_15 (LSTM)               (None, 1024)              4608000   \n",
            "_________________________________________________________________\n",
            "dense_11 (Dense)             (None, 2)                 2050      \n",
            "=================================================================\n",
            "Total params: 7,463,850\n",
            "Trainable params: 7,463,850\n",
            "Non-trainable params: 0\n",
            "_________________________________________________________________\n",
            "None\n"
          ]
        }
      ]
    },
    {
      "cell_type": "code",
      "metadata": {
        "id": "Y9QIPUQgSSKI"
      },
      "source": [
        "#Early stopping the model training based on validation loss\n",
        "es = EarlyStopping(monitor = 'val_loss', mode = 'min', verbose = 1, patience = 5)"
      ],
      "execution_count": 126,
      "outputs": []
    },
    {
      "cell_type": "code",
      "metadata": {
        "colab": {
          "base_uri": "https://localhost:8080/"
        },
        "id": "U-tMJJw6x1ZH",
        "outputId": "bac80a81-ac08-4529-b1d2-429cc9be66df"
      },
      "source": [
        "#training the model\n",
        "history = model.fit(X_train_pad, y_train, epochs = 25, batch_size = 128, validation_data=(X_valid_pad, y_valid), callbacks=es)"
      ],
      "execution_count": 127,
      "outputs": [
        {
          "output_type": "stream",
          "name": "stdout",
          "text": [
            "Epoch 1/25\n",
            "260/260 [==============================] - 71s 262ms/step - loss: 0.5944 - accuracy: 0.6851 - val_loss: 0.4681 - val_accuracy: 0.7826\n",
            "Epoch 2/25\n",
            "260/260 [==============================] - 68s 260ms/step - loss: 0.4705 - accuracy: 0.7796 - val_loss: 0.3974 - val_accuracy: 0.8300\n",
            "Epoch 3/25\n",
            "260/260 [==============================] - 67s 259ms/step - loss: 0.3806 - accuracy: 0.8325 - val_loss: 0.3339 - val_accuracy: 0.8600\n",
            "Epoch 4/25\n",
            "260/260 [==============================] - 68s 260ms/step - loss: 0.3107 - accuracy: 0.8685 - val_loss: 0.2887 - val_accuracy: 0.8765\n",
            "Epoch 5/25\n",
            "260/260 [==============================] - 67s 259ms/step - loss: 0.2671 - accuracy: 0.8903 - val_loss: 0.2771 - val_accuracy: 0.8927\n",
            "Epoch 6/25\n",
            "260/260 [==============================] - 67s 258ms/step - loss: 0.2137 - accuracy: 0.9144 - val_loss: 0.2597 - val_accuracy: 0.8988\n",
            "Epoch 7/25\n",
            "260/260 [==============================] - 67s 259ms/step - loss: 0.1798 - accuracy: 0.9302 - val_loss: 0.2440 - val_accuracy: 0.9095\n",
            "Epoch 8/25\n",
            "260/260 [==============================] - 67s 259ms/step - loss: 0.1533 - accuracy: 0.9417 - val_loss: 0.2430 - val_accuracy: 0.9134\n",
            "Epoch 9/25\n",
            "260/260 [==============================] - 67s 260ms/step - loss: 0.1322 - accuracy: 0.9496 - val_loss: 0.2187 - val_accuracy: 0.9165\n",
            "Epoch 10/25\n",
            "260/260 [==============================] - 68s 260ms/step - loss: 0.1138 - accuracy: 0.9564 - val_loss: 0.2246 - val_accuracy: 0.9207\n",
            "Epoch 11/25\n",
            "260/260 [==============================] - 68s 260ms/step - loss: 0.0978 - accuracy: 0.9628 - val_loss: 0.2370 - val_accuracy: 0.9244\n",
            "Epoch 12/25\n",
            "260/260 [==============================] - 67s 260ms/step - loss: 0.0861 - accuracy: 0.9680 - val_loss: 0.2442 - val_accuracy: 0.9261\n",
            "Epoch 13/25\n",
            "260/260 [==============================] - 67s 258ms/step - loss: 0.0782 - accuracy: 0.9711 - val_loss: 0.2527 - val_accuracy: 0.9281\n",
            "Epoch 14/25\n",
            "260/260 [==============================] - 67s 259ms/step - loss: 0.0639 - accuracy: 0.9768 - val_loss: 0.2397 - val_accuracy: 0.9283\n",
            "Epoch 00014: early stopping\n"
          ]
        }
      ]
    },
    {
      "cell_type": "code",
      "metadata": {
        "colab": {
          "base_uri": "https://localhost:8080/",
          "height": 295
        },
        "id": "YRGseFya2wND",
        "outputId": "8835f373-7e45-4b63-c3e6-2705deac2310"
      },
      "source": [
        "# Model Validation\n",
        "plt.plot(history.history['accuracy'], label='train_accuracy')\n",
        "plt.plot(history.history['val_accuracy'], label = 'val_accuracy')\n",
        "plt.plot(history.history['loss'], label='train_loss')\n",
        "plt.plot(history.history['val_loss'], label = 'val_loss')\n",
        "plt.title('Model training/Validation accuracy & loss')\n",
        "plt.xlabel('Epoch')\n",
        "plt.ylabel('Accuracy / Loss')\n",
        "plt.ylim([0, 1])\n",
        "plt.legend(loc='lower left')\n",
        "plt.show()"
      ],
      "execution_count": 129,
      "outputs": [
        {
          "output_type": "display_data",
          "data": {
            "image/png": "[encoded data removed]",
            "text/plain": [
              "<Figure size 432x288 with 1 Axes>"
            ]
          },
          "metadata": {
            "needs_background": "light"
          }
        }
      ]
    },
    {
      "cell_type": "markdown",
      "metadata": {
        "id": "yqOPMe3-fGwH"
      },
      "source": [
        "## Model Evaluation"
      ]
    },
    {
      "cell_type": "code",
      "metadata": {
        "id": "bc2Qxkto27HP"
      },
      "source": [
        "#predicting the is_sarcastic label on the validation data\n",
        "y_hat = model.predict(X_valid_pad)\n",
        "y_pred = np.argmax(y_hat, axis =1)\n",
        "\n",
        "y_true = np.argmax(np.array(y_valid), axis=1)"
      ],
      "execution_count": 130,
      "outputs": []
    },
    {
      "cell_type": "code",
      "metadata": {
        "colab": {
          "base_uri": "https://localhost:8080/"
        },
        "id": "Pwgb1v1Qa-7u",
        "outputId": "7f171deb-3645-4940-959f-bf2be0dc2925"
      },
      "source": [
        "#printing the appropriate evaluation metrics\n",
        "print('\\n Classification Report: \\n',classification_report(y_true,y_pred))\n",
        "print('\\n Accuracy Score: {:.2f}'.format(accuracy_score(y_true,y_pred) * 100))\n",
        "print('\\n Precision Score: {:.2f}'.format(precision_score(y_true,y_pred)* 100))\n",
        "print('\\n Recall Score: {:.2f}'.format(recall_score(y_true,y_pred)* 100))\n",
        "print('\\n f1_score: {:.2f}'.format(f1_score(y_true,y_pred)* 100))\n",
        "print('\\n Confusion Matrix \\n {}' .format(confusion_matrix(y_true,y_pred)))"
      ],
      "execution_count": 135,
      "outputs": [
        {
          "output_type": "stream",
          "name": "stdout",
          "text": [
            "\n",
            " Classification Report: \n",
            "               precision    recall  f1-score   support\n",
            "\n",
            "           0       0.94      0.92      0.93      5990\n",
            "           1       0.91      0.93      0.92      5076\n",
            "\n",
            "    accuracy                           0.93     11066\n",
            "   macro avg       0.93      0.93      0.93     11066\n",
            "weighted avg       0.93      0.93      0.93     11066\n",
            "\n",
            "\n",
            " Accuracy Score: 92.83\n",
            "\n",
            " Precision Score: 91.13\n",
            "\n",
            " Recall Score: 93.48\n",
            "\n",
            " f1_score: 92.29\n",
            "\n",
            " Confusion Matrix \n",
            " [[5528  462]\n",
            " [ 331 4745]]\n"
          ]
        }
      ]
    },
    {
      "cell_type": "markdown",
      "metadata": {
        "id": "IsJvIXIB-xrg"
      },
      "source": [
        "## Predicting sarcasam for unseen data (test data)"
      ]
    },
    {
      "cell_type": "code",
      "metadata": {
        "id": "EJJqPQBH-2IV"
      },
      "source": [
        "#reading the test data which is unseen by the model\n",
        "df_test = pd.read_csv(\"/content/drive/MyDrive/News_Test_Data.csv\", index_col=None)"
      ],
      "execution_count": 136,
      "outputs": []
    },
    {
      "cell_type": "code",
      "metadata": {
        "id": "KoVLHQMG-_4h"
      },
      "source": [
        "#applying text pre-processing on the test data\n",
        "df_test['headline'] = df_test['headline'].apply(lambda x: str(x).lower())\n",
        "df_test['headline'] = df_test['headline'].apply(lambda x: expand_words(x))\n",
        "df_test['headline'] = df_test['headline'].apply(lambda x: remove_special_characters(x))\n",
        "df_test['headline'] = df_test['headline'].apply(lambda x: remove_accented_chars(x))\n",
        "df_test['headline'] = df_test['headline'].apply(lambda x: remove_stopwords(x))"
      ],
      "execution_count": 137,
      "outputs": []
    },
    {
      "cell_type": "code",
      "metadata": {
        "colab": {
          "base_uri": "https://localhost:8080/",
          "height": 356
        },
        "id": "xdqoQsUp_L66",
        "outputId": "3dcd4512-d176-453b-8f76-39c81b1ace61"
      },
      "source": [
        "df_test.sample(10)"
      ],
      "execution_count": 138,
      "outputs": [
        {
          "output_type": "execute_result",
          "data": {
            "text/html": [
              "<div>\n",
              "<style scoped>\n",
              "    .dataframe tbody tr th:only-of-type {\n",
              "        vertical-align: middle;\n",
              "    }\n",
              "\n",
              "    .dataframe tbody tr th {\n",
              "        vertical-align: top;\n",
              "    }\n",
              "\n",
              "    .dataframe thead th {\n",
              "        text-align: right;\n",
              "    }\n",
              "</style>\n",
              "<table border=\"1\" class=\"dataframe\">\n",
              "  <thead>\n",
              "    <tr style=\"text-align: right;\">\n",
              "      <th></th>\n",
              "      <th>headline</th>\n",
              "    </tr>\n",
              "  </thead>\n",
              "  <tbody>\n",
              "    <tr>\n",
              "      <th>2820</th>\n",
              "      <td>violinist sick mozart covers</td>\n",
              "    </tr>\n",
              "    <tr>\n",
              "      <th>8039</th>\n",
              "      <td>soccer official says trump presidency hurt world cup bid</td>\n",
              "    </tr>\n",
              "    <tr>\n",
              "      <th>7335</th>\n",
              "      <td>ohio mom thanks kind cashier cheered 3yearold son</td>\n",
              "    </tr>\n",
              "    <tr>\n",
              "      <th>7557</th>\n",
              "      <td>prevent screen addiction young children</td>\n",
              "    </tr>\n",
              "    <tr>\n",
              "      <th>4619</th>\n",
              "      <td>overpopulation earth create valuable new markets</td>\n",
              "    </tr>\n",
              "    <tr>\n",
              "      <th>4840</th>\n",
              "      <td>patrick dempseys wife files divorce</td>\n",
              "    </tr>\n",
              "    <tr>\n",
              "      <th>6919</th>\n",
              "      <td>trumpnetanyahu meet exercise fawning fantasy antipalestinian incitement</td>\n",
              "    </tr>\n",
              "    <tr>\n",
              "      <th>10675</th>\n",
              "      <td>blaming black voter turnout virginia</td>\n",
              "    </tr>\n",
              "    <tr>\n",
              "      <th>7128</th>\n",
              "      <td>david blaine stunt push publics endurance limit</td>\n",
              "    </tr>\n",
              "    <tr>\n",
              "      <th>9266</th>\n",
              "      <td>france right ban burkini</td>\n",
              "    </tr>\n",
              "  </tbody>\n",
              "</table>\n",
              "</div>"
            ],
            "text/plain": [
              "                                                                      headline\n",
              "2820                                              violinist sick mozart covers\n",
              "8039                  soccer official says trump presidency hurt world cup bid\n",
              "7335                         ohio mom thanks kind cashier cheered 3yearold son\n",
              "7557                                   prevent screen addiction young children\n",
              "4619                          overpopulation earth create valuable new markets\n",
              "4840                                       patrick dempseys wife files divorce\n",
              "6919   trumpnetanyahu meet exercise fawning fantasy antipalestinian incitement\n",
              "10675                                     blaming black voter turnout virginia\n",
              "7128                           david blaine stunt push publics endurance limit\n",
              "9266                                                  france right ban burkini"
            ]
          },
          "metadata": {},
          "execution_count": 138
        }
      ]
    },
    {
      "cell_type": "code",
      "metadata": {
        "id": "oLqx_tvwAA_0"
      },
      "source": [
        "# tokenizing and padding the test data\n",
        "X_test_seq = tokenizer.texts_to_sequences(df_test['headline'].astype(\"str\"))\n",
        "X_test_pad = pad_sequences(X_test_seq, maxlen=int(maxlen), padding='post')"
      ],
      "execution_count": 139,
      "outputs": []
    },
    {
      "cell_type": "code",
      "metadata": {
        "id": "wBIghhol_OQ7"
      },
      "source": [
        "# applying the trained model on the test data and the predictions are saved as a pandas series\n",
        "df_test_pred = pd.DataFrame()\n",
        "df_test_pred['prediction'] = np.argmax(model.predict(X_test_pad), axis =1)"
      ],
      "execution_count": 140,
      "outputs": []
    },
    {
      "cell_type": "code",
      "metadata": {
        "id": "hx9zvjK1A9T5"
      },
      "source": [
        "# the predictions on the test data are written to a csv\n",
        "df_test_pred.to_csv(\"/content/drive/MyDrive/News_predictions_1.csv\", index=None)"
      ],
      "execution_count": 141,
      "outputs": []
    }
  ]
}